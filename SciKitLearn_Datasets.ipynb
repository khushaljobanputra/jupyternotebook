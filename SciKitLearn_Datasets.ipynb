{
 "cells": [
  {
   "cell_type": "markdown",
   "metadata": {},
   "source": [
    "# Learning to explore details of datasets provided in sklearn"
   ]
  },
  {
   "cell_type": "markdown",
   "metadata": {},
   "source": [
    "## Diabetes Dataset "
   ]
  },
  {
   "cell_type": "code",
   "execution_count": 1,
   "metadata": {
    "collapsed": true
   },
   "outputs": [],
   "source": [
    "from sklearn.datasets import *"
   ]
  },
  {
   "cell_type": "code",
   "execution_count": 2,
   "metadata": {},
   "outputs": [
    {
     "name": "stdout",
     "output_type": "stream",
     "text": [
      "dict_keys(['data', 'target', 'DESCR', 'feature_names'])\n",
      "[ 151.   75.  141.  206.  135.   97.  138.   63.  110.  310.  101.   69.\n",
      "  179.  185.  118.  171.  166.  144.   97.  168.   68.   49.   68.  245.\n",
      "  184.  202.  137.   85.  131.  283.  129.   59.  341.   87.   65.  102.\n",
      "  265.  276.  252.   90.  100.   55.   61.   92.  259.   53.  190.  142.\n",
      "   75.  142.  155.  225.   59.  104.  182.  128.   52.   37.  170.  170.\n",
      "   61.  144.   52.  128.   71.  163.  150.   97.  160.  178.   48.  270.\n",
      "  202.  111.   85.   42.  170.  200.  252.  113.  143.   51.   52.  210.\n",
      "   65.  141.   55.  134.   42.  111.   98.  164.   48.   96.   90.  162.\n",
      "  150.  279.   92.   83.  128.  102.  302.  198.   95.   53.  134.  144.\n",
      "  232.   81.  104.   59.  246.  297.  258.  229.  275.  281.  179.  200.\n",
      "  200.  173.  180.   84.  121.  161.   99.  109.  115.  268.  274.  158.\n",
      "  107.   83.  103.  272.   85.  280.  336.  281.  118.  317.  235.   60.\n",
      "  174.  259.  178.  128.   96.  126.  288.   88.  292.   71.  197.  186.\n",
      "   25.   84.   96.  195.   53.  217.  172.  131.  214.   59.   70.  220.\n",
      "  268.  152.   47.   74.  295.  101.  151.  127.  237.  225.   81.  151.\n",
      "  107.   64.  138.  185.  265.  101.  137.  143.  141.   79.  292.  178.\n",
      "   91.  116.   86.  122.   72.  129.  142.   90.  158.   39.  196.  222.\n",
      "  277.   99.  196.  202.  155.   77.  191.   70.   73.   49.   65.  263.\n",
      "  248.  296.  214.  185.   78.   93.  252.  150.   77.  208.   77.  108.\n",
      "  160.   53.  220.  154.  259.   90.  246.  124.   67.   72.  257.  262.\n",
      "  275.  177.   71.   47.  187.  125.   78.   51.  258.  215.  303.  243.\n",
      "   91.  150.  310.  153.  346.   63.   89.   50.   39.  103.  308.  116.\n",
      "  145.   74.   45.  115.  264.   87.  202.  127.  182.  241.   66.   94.\n",
      "  283.   64.  102.  200.  265.   94.  230.  181.  156.  233.   60.  219.\n",
      "   80.   68.  332.  248.   84.  200.   55.   85.   89.   31.  129.   83.\n",
      "  275.   65.  198.  236.  253.  124.   44.  172.  114.  142.  109.  180.\n",
      "  144.  163.  147.   97.  220.  190.  109.  191.  122.  230.  242.  248.\n",
      "  249.  192.  131.  237.   78.  135.  244.  199.  270.  164.   72.   96.\n",
      "  306.   91.  214.   95.  216.  263.  178.  113.  200.  139.  139.   88.\n",
      "  148.   88.  243.   71.   77.  109.  272.   60.   54.  221.   90.  311.\n",
      "  281.  182.  321.   58.  262.  206.  233.  242.  123.  167.   63.  197.\n",
      "   71.  168.  140.  217.  121.  235.  245.   40.   52.  104.  132.   88.\n",
      "   69.  219.   72.  201.  110.   51.  277.   63.  118.   69.  273.  258.\n",
      "   43.  198.  242.  232.  175.   93.  168.  275.  293.  281.   72.  140.\n",
      "  189.  181.  209.  136.  261.  113.  131.  174.  257.   55.   84.   42.\n",
      "  146.  212.  233.   91.  111.  152.  120.   67.  310.   94.  183.   66.\n",
      "  173.   72.   49.   64.   48.  178.  104.  132.  220.   57.]\n"
     ]
    }
   ],
   "source": [
    "diabetes = load_diabetes()\n",
    "print (diabetes.keys())\n",
    "print (diabetes.target)"
   ]
  },
  {
   "cell_type": "markdown",
   "metadata": {},
   "source": [
    "## Digit Dataset "
   ]
  },
  {
   "cell_type": "code",
   "execution_count": 3,
   "metadata": {},
   "outputs": [
    {
     "name": "stdout",
     "output_type": "stream",
     "text": [
      "dict_keys(['data', 'target', 'target_names', 'images', 'DESCR'])\n"
     ]
    }
   ],
   "source": [
    "digits = load_digits()\n",
    "print (digits.keys())"
   ]
  },
  {
   "cell_type": "code",
   "execution_count": 4,
   "metadata": {},
   "outputs": [
    {
     "name": "stdout",
     "output_type": "stream",
     "text": [
      "[0 1 2 3 4 5 6 7 8 9]\n",
      "(1797, 64)\n"
     ]
    }
   ],
   "source": [
    "print (digits.target_names)\n",
    "print (digits.data.shape)"
   ]
  },
  {
   "cell_type": "code",
   "execution_count": 5,
   "metadata": {},
   "outputs": [
    {
     "name": "stdout",
     "output_type": "stream",
     "text": [
      "(1797, 8, 8)\n"
     ]
    }
   ],
   "source": [
    "print (digits.images.shape)"
   ]
  },
  {
   "cell_type": "code",
   "execution_count": 6,
   "metadata": {
    "collapsed": true
   },
   "outputs": [],
   "source": [
    "import pylab as pl"
   ]
  },
  {
   "cell_type": "code",
   "execution_count": 7,
   "metadata": {},
   "outputs": [
    {
     "name": "stdout",
     "output_type": "stream",
     "text": [
      "[[  0.   0.   5.  13.   9.   1.   0.   0.]\n",
      " [  0.   0.  13.  15.  10.  15.   5.   0.]\n",
      " [  0.   3.  15.   2.   0.  11.   8.   0.]\n",
      " [  0.   4.  12.   0.   0.   8.   8.   0.]\n",
      " [  0.   5.   8.   0.   0.   9.   8.   0.]\n",
      " [  0.   4.  11.   0.   1.  12.   7.   0.]\n",
      " [  0.   2.  14.   5.  10.  12.   0.   0.]\n",
      " [  0.   0.   6.  13.  10.   0.   0.   0.]]\n"
     ]
    }
   ],
   "source": [
    "print (digits.images[0])"
   ]
  },
  {
   "cell_type": "code",
   "execution_count": 8,
   "metadata": {},
   "outputs": [
    {
     "data": {
      "text/plain": [
       "<matplotlib.figure.Figure at 0x1a0f882ac8>"
      ]
     },
     "metadata": {},
     "output_type": "display_data"
    },
    {
     "data": {
      "image/png": "[encoded data removed]",
      "text/plain": [
       "<matplotlib.figure.Figure at 0x1a0f882a90>"
      ]
     },
     "metadata": {},
     "output_type": "display_data"
    }
   ],
   "source": [
    "pl.gray()\n",
    "pl.matshow(digits.images[561])\n",
    "pl.show()"
   ]
  }
 ],
 "metadata": {
  "kernelspec": {
   "display_name": "Python 3",
   "language": "python",
   "name": "python3"
  },
  "language_info": {
   "codemirror_mode": {
    "name": "ipython",
    "version": 3
   },
   "file_extension": ".py",
   "mimetype": "text/x-python",
   "name": "python",
   "nbconvert_exporter": "python",
   "pygments_lexer": "ipython3",
   "version": "3.6.3"
  }
 },
 "nbformat": 4,
 "nbformat_minor": 2
}
